{
 "cells": [
  {
   "cell_type": "markdown",
   "id": "ee8dd582",
   "metadata": {},
   "source": [
    "# 6.4: Supervised Machine Learning: Regression"
   ]
  },
  {
   "cell_type": "markdown",
   "id": "01525f81",
   "metadata": {},
   "source": [
    "### This script contains the following:\n",
    "\n",
    "#### 1. Importing libraries and data\n",
    "#### 2. Exploratory Data Analysis\n",
    "#### 3. Data Prep for Regression Analysis\n",
    "#### 4. Regression analysis\n",
    "    Comparing how the regression fits with the training set"
   ]
  },
  {
   "cell_type": "markdown",
   "id": "f7491c25",
   "metadata": {},
   "source": [
    "# Importing Libraries and Data"
   ]
  },
  {
   "cell_type": "code",
   "execution_count": 1,
   "id": "4ebb7993",
   "metadata": {},
   "outputs": [],
   "source": [
    "import pandas as pd\n",
    "import numpy as np\n",
    "import seaborn as sns\n",
    "import matplotlib\n",
    "import matplotlib.pyplot as plt\n",
    "import os\n",
    "import sklearn\n",
    "from sklearn.model_selection import train_test_split \n",
    "from sklearn.linear_model import LinearRegression\n",
    "from sklearn.metrics import mean_squared_error, r2_score"
   ]
  },
  {
   "cell_type": "code",
   "execution_count": 2,
   "id": "909ab857",
   "metadata": {},
   "outputs": [],
   "source": [
    "# This option ensures that the graphs you create are displayed within the notebook without the need to \"call\" them specifically.\n",
    "\n",
    "%matplotlib inline"
   ]
  },
  {
   "cell_type": "code",
   "execution_count": 3,
   "id": "ec59429e",
   "metadata": {},
   "outputs": [],
   "source": [
    "#Create a folderpath shortcut\n",
    "\n",
    "path = r'/Users/kerimzengin/Desktop/Data Analytics/Data Analytics Immersion/Achievement 6 - Advanced Analytics & Dashboard Design'"
   ]
  },
  {
   "cell_type": "code",
   "execution_count": 4,
   "id": "bba1a174",
   "metadata": {},
   "outputs": [],
   "source": [
    "#Reading the cleaned bank dataset and putting it in a dataframe\n",
    "\n",
    "df = pd.read_pickle(os.path.join(path, 'Data', 'Prepared Data', 'bank_cleaned_2.pkl'))"
   ]
  },
  {
   "cell_type": "code",
   "execution_count": 5,
   "id": "ed4dbd67",
   "metadata": {},
   "outputs": [
    {
     "data": {
      "text/html": [
       "<div>\n",
       "<style scoped>\n",
       "    .dataframe tbody tr th:only-of-type {\n",
       "        vertical-align: middle;\n",
       "    }\n",
       "\n",
       "    .dataframe tbody tr th {\n",
       "        vertical-align: top;\n",
       "    }\n",
       "\n",
       "    .dataframe thead th {\n",
       "        text-align: right;\n",
       "    }\n",
       "</style>\n",
       "<table border=\"1\" class=\"dataframe\">\n",
       "  <thead>\n",
       "    <tr style=\"text-align: right;\">\n",
       "      <th></th>\n",
       "      <th>age</th>\n",
       "      <th>job</th>\n",
       "      <th>marital</th>\n",
       "      <th>country</th>\n",
       "      <th>education</th>\n",
       "      <th>has_default_loan</th>\n",
       "      <th>has_housing_loan</th>\n",
       "      <th>has_personal_loan</th>\n",
       "      <th>contact_type</th>\n",
       "      <th>month_of_contact</th>\n",
       "      <th>...</th>\n",
       "      <th>campaign</th>\n",
       "      <th>num_of_days_last_contact</th>\n",
       "      <th>num_of_contacts_before_campaign</th>\n",
       "      <th>previous_campaign_outcome</th>\n",
       "      <th>emp.var.rate</th>\n",
       "      <th>cons.price.idx</th>\n",
       "      <th>cons.conf.idx</th>\n",
       "      <th>euribor_3_mths</th>\n",
       "      <th>num_of_employees</th>\n",
       "      <th>has_term_deposit</th>\n",
       "    </tr>\n",
       "  </thead>\n",
       "  <tbody>\n",
       "    <tr>\n",
       "      <th>0</th>\n",
       "      <td>56</td>\n",
       "      <td>housemaid</td>\n",
       "      <td>married</td>\n",
       "      <td>spain</td>\n",
       "      <td>basic.4y</td>\n",
       "      <td>no</td>\n",
       "      <td>no</td>\n",
       "      <td>no</td>\n",
       "      <td>telephone</td>\n",
       "      <td>may</td>\n",
       "      <td>...</td>\n",
       "      <td>1</td>\n",
       "      <td>999</td>\n",
       "      <td>0</td>\n",
       "      <td>nonexistent</td>\n",
       "      <td>1.1</td>\n",
       "      <td>93.994</td>\n",
       "      <td>-36.4</td>\n",
       "      <td>4.857</td>\n",
       "      <td>5191.0</td>\n",
       "      <td>no</td>\n",
       "    </tr>\n",
       "    <tr>\n",
       "      <th>1</th>\n",
       "      <td>57</td>\n",
       "      <td>services</td>\n",
       "      <td>married</td>\n",
       "      <td>estonia</td>\n",
       "      <td>high.school</td>\n",
       "      <td>unknown</td>\n",
       "      <td>no</td>\n",
       "      <td>no</td>\n",
       "      <td>telephone</td>\n",
       "      <td>may</td>\n",
       "      <td>...</td>\n",
       "      <td>1</td>\n",
       "      <td>999</td>\n",
       "      <td>0</td>\n",
       "      <td>nonexistent</td>\n",
       "      <td>1.1</td>\n",
       "      <td>93.994</td>\n",
       "      <td>-36.4</td>\n",
       "      <td>2.133</td>\n",
       "      <td>5191.0</td>\n",
       "      <td>no</td>\n",
       "    </tr>\n",
       "    <tr>\n",
       "      <th>2</th>\n",
       "      <td>37</td>\n",
       "      <td>services</td>\n",
       "      <td>married</td>\n",
       "      <td>austria</td>\n",
       "      <td>high.school</td>\n",
       "      <td>no</td>\n",
       "      <td>yes</td>\n",
       "      <td>no</td>\n",
       "      <td>telephone</td>\n",
       "      <td>may</td>\n",
       "      <td>...</td>\n",
       "      <td>1</td>\n",
       "      <td>999</td>\n",
       "      <td>0</td>\n",
       "      <td>nonexistent</td>\n",
       "      <td>1.1</td>\n",
       "      <td>93.994</td>\n",
       "      <td>-36.4</td>\n",
       "      <td>4.857</td>\n",
       "      <td>5191.0</td>\n",
       "      <td>no</td>\n",
       "    </tr>\n",
       "    <tr>\n",
       "      <th>3</th>\n",
       "      <td>40</td>\n",
       "      <td>admin.</td>\n",
       "      <td>married</td>\n",
       "      <td>lithuania</td>\n",
       "      <td>basic.6y</td>\n",
       "      <td>no</td>\n",
       "      <td>no</td>\n",
       "      <td>no</td>\n",
       "      <td>telephone</td>\n",
       "      <td>may</td>\n",
       "      <td>...</td>\n",
       "      <td>1</td>\n",
       "      <td>999</td>\n",
       "      <td>0</td>\n",
       "      <td>nonexistent</td>\n",
       "      <td>1.1</td>\n",
       "      <td>93.994</td>\n",
       "      <td>-36.4</td>\n",
       "      <td>2.132</td>\n",
       "      <td>5191.0</td>\n",
       "      <td>no</td>\n",
       "    </tr>\n",
       "    <tr>\n",
       "      <th>4</th>\n",
       "      <td>56</td>\n",
       "      <td>services</td>\n",
       "      <td>married</td>\n",
       "      <td>slovakia</td>\n",
       "      <td>high.school</td>\n",
       "      <td>no</td>\n",
       "      <td>no</td>\n",
       "      <td>yes</td>\n",
       "      <td>telephone</td>\n",
       "      <td>may</td>\n",
       "      <td>...</td>\n",
       "      <td>1</td>\n",
       "      <td>999</td>\n",
       "      <td>0</td>\n",
       "      <td>nonexistent</td>\n",
       "      <td>1.1</td>\n",
       "      <td>93.994</td>\n",
       "      <td>-36.4</td>\n",
       "      <td>3.579</td>\n",
       "      <td>5191.0</td>\n",
       "      <td>no</td>\n",
       "    </tr>\n",
       "  </tbody>\n",
       "</table>\n",
       "<p>5 rows × 22 columns</p>\n",
       "</div>"
      ],
      "text/plain": [
       "   age        job  marital    country    education has_default_loan  \\\n",
       "0   56  housemaid  married      spain     basic.4y               no   \n",
       "1   57   services  married    estonia  high.school          unknown   \n",
       "2   37   services  married    austria  high.school               no   \n",
       "3   40     admin.  married  lithuania     basic.6y               no   \n",
       "4   56   services  married   slovakia  high.school               no   \n",
       "\n",
       "  has_housing_loan has_personal_loan contact_type month_of_contact  ...  \\\n",
       "0               no                no    telephone              may  ...   \n",
       "1               no                no    telephone              may  ...   \n",
       "2              yes                no    telephone              may  ...   \n",
       "3               no                no    telephone              may  ...   \n",
       "4               no               yes    telephone              may  ...   \n",
       "\n",
       "  campaign  num_of_days_last_contact  num_of_contacts_before_campaign  \\\n",
       "0        1                       999                                0   \n",
       "1        1                       999                                0   \n",
       "2        1                       999                                0   \n",
       "3        1                       999                                0   \n",
       "4        1                       999                                0   \n",
       "\n",
       "   previous_campaign_outcome  emp.var.rate cons.price.idx  cons.conf.idx  \\\n",
       "0                nonexistent           1.1         93.994          -36.4   \n",
       "1                nonexistent           1.1         93.994          -36.4   \n",
       "2                nonexistent           1.1         93.994          -36.4   \n",
       "3                nonexistent           1.1         93.994          -36.4   \n",
       "4                nonexistent           1.1         93.994          -36.4   \n",
       "\n",
       "   euribor_3_mths  num_of_employees  has_term_deposit  \n",
       "0           4.857            5191.0                no  \n",
       "1           2.133            5191.0                no  \n",
       "2           4.857            5191.0                no  \n",
       "3           2.132            5191.0                no  \n",
       "4           3.579            5191.0                no  \n",
       "\n",
       "[5 rows x 22 columns]"
      ]
     },
     "execution_count": 5,
     "metadata": {},
     "output_type": "execute_result"
    }
   ],
   "source": [
    "#Check if the import was successful\n",
    "\n",
    "df.head()"
   ]
  },
  {
   "cell_type": "markdown",
   "id": "08c14d78",
   "metadata": {},
   "source": [
    "# Exploratory Data Analysis"
   ]
  },
  {
   "cell_type": "code",
   "execution_count": 6,
   "id": "c32f9393",
   "metadata": {},
   "outputs": [
    {
     "name": "stderr",
     "output_type": "stream",
     "text": [
      "/Users/kerimzengin/opt/anaconda3/lib/python3.8/site-packages/seaborn/distributions.py:2557: FutureWarning: `distplot` is a deprecated function and will be removed in a future version. Please adapt your code to use either `displot` (a figure-level function with similar flexibility) or `histplot` (an axes-level function for histograms).\n",
      "  warnings.warn(msg, FutureWarning)\n"
     ]
    },
    {
     "data": {
      "text/plain": [
       "<AxesSubplot:xlabel='euribor_3_mths', ylabel='Density'>"
      ]
     },
     "execution_count": 6,
     "metadata": {},
     "output_type": "execute_result"
    },
    {
     "data": {
      "image/png": "[encoded data removed]",
      "text/plain": [
       "<Figure size 432x288 with 1 Axes>"
      ]
     },
     "metadata": {
      "needs_background": "light"
     },
     "output_type": "display_data"
    }
   ],
   "source": [
    "#Create a histograp for the Euribor 3 Months rate variable\n",
    "\n",
    "sns.distplot(df['euribor_3_mths'], bins=25)"
   ]
  },
  {
   "cell_type": "code",
   "execution_count": 7,
   "id": "fb3e1162",
   "metadata": {},
   "outputs": [
    {
     "data": {
      "text/plain": [
       "3.4776058560745695"
      ]
     },
     "execution_count": 7,
     "metadata": {},
     "output_type": "execute_result"
    }
   ],
   "source": [
    "#Get the mean value\n",
    "\n",
    "df['euribor_3_mths'].mean()"
   ]
  },
  {
   "cell_type": "code",
   "execution_count": 8,
   "id": "48a1654d",
   "metadata": {},
   "outputs": [
    {
     "data": {
      "text/plain": [
       "4.12"
      ]
     },
     "execution_count": 8,
     "metadata": {},
     "output_type": "execute_result"
    }
   ],
   "source": [
    "#Get the median value\n",
    "\n",
    "df['euribor_3_mths'].median()"
   ]
  },
  {
   "cell_type": "code",
   "execution_count": 9,
   "id": "03239202",
   "metadata": {},
   "outputs": [
    {
     "data": {
      "text/plain": [
       "5.233"
      ]
     },
     "execution_count": 9,
     "metadata": {},
     "output_type": "execute_result"
    }
   ],
   "source": [
    "#Get the max value\n",
    "\n",
    "df['euribor_3_mths'].max()"
   ]
  },
  {
   "cell_type": "code",
   "execution_count": 10,
   "id": "3df89804",
   "metadata": {},
   "outputs": [
    {
     "name": "stderr",
     "output_type": "stream",
     "text": [
      "/Users/kerimzengin/opt/anaconda3/lib/python3.8/site-packages/seaborn/distributions.py:2557: FutureWarning: `distplot` is a deprecated function and will be removed in a future version. Please adapt your code to use either `displot` (a figure-level function with similar flexibility) or `histplot` (an axes-level function for histograms).\n",
      "  warnings.warn(msg, FutureWarning)\n"
     ]
    },
    {
     "data": {
      "text/plain": [
       "<AxesSubplot:xlabel='num_of_employees', ylabel='Density'>"
      ]
     },
     "execution_count": 10,
     "metadata": {},
     "output_type": "execute_result"
    },
    {
     "data": {
      "image/png": "[encoded data removed]",
      "text/plain": [
       "<Figure size 432x288 with 1 Axes>"
      ]
     },
     "metadata": {
      "needs_background": "light"
     },
     "output_type": "display_data"
    }
   ],
   "source": [
    "#Create a histogram for the number of employees variable\n",
    "\n",
    "sns.distplot(df['num_of_employees'], bins=25)"
   ]
  },
  {
   "cell_type": "code",
   "execution_count": 11,
   "id": "15a878df",
   "metadata": {},
   "outputs": [
    {
     "data": {
      "text/plain": [
       "5167.035910941844"
      ]
     },
     "execution_count": 11,
     "metadata": {},
     "output_type": "execute_result"
    }
   ],
   "source": [
    "#Get the mean value\n",
    "\n",
    "df['num_of_employees'].mean()"
   ]
  },
  {
   "cell_type": "code",
   "execution_count": 12,
   "id": "048ed3ba",
   "metadata": {},
   "outputs": [
    {
     "data": {
      "text/plain": [
       "5191.0"
      ]
     },
     "execution_count": 12,
     "metadata": {},
     "output_type": "execute_result"
    }
   ],
   "source": [
    "#Get the median value\n",
    "\n",
    "df['num_of_employees'].median()"
   ]
  },
  {
   "cell_type": "code",
   "execution_count": 13,
   "id": "776cc11f",
   "metadata": {},
   "outputs": [
    {
     "data": {
      "text/plain": [
       "5228.1"
      ]
     },
     "execution_count": 13,
     "metadata": {},
     "output_type": "execute_result"
    }
   ],
   "source": [
    "#Get the max value\n",
    "\n",
    "df['num_of_employees'].max()"
   ]
  },
  {
   "cell_type": "markdown",
   "id": "ab6c2313",
   "metadata": {},
   "source": [
    "# Data Prep for Regression Analysis "
   ]
  },
  {
   "cell_type": "code",
   "execution_count": 14,
   "id": "5b733adf",
   "metadata": {},
   "outputs": [
    {
     "data": {
      "image/png": "[encoded data removed]",
      "text/plain": [
       "<Figure size 432x288 with 1 Axes>"
      ]
     },
     "metadata": {
      "needs_background": "light"
     },
     "output_type": "display_data"
    }
   ],
   "source": [
    "# Create a scatterplot using matplotlib for another look at how the chosen variables plot against each other.\n",
    "\n",
    "df.plot(x = 'num_of_employees', y='euribor_3_mths',style='o') # The style option creates a scatterplot; without it, we only have lines.\n",
    "plt.title('Number of Employees vs Euribor 3 Months Rate')  \n",
    "plt.xlabel('Num of Employees')  \n",
    "plt.ylabel('Euribor 3 Months Rate')  \n",
    "plt.show()"
   ]
  },
  {
   "cell_type": "code",
   "execution_count": 15,
   "id": "d31d5785",
   "metadata": {},
   "outputs": [],
   "source": [
    "# Reshape the variables into NumPy arrays and put them into separate objects.\n",
    "\n",
    "X = df['num_of_employees'].values.reshape(-1,1)\n",
    "y = df['euribor_3_mths'].values.reshape(-1,1)"
   ]
  },
  {
   "cell_type": "code",
   "execution_count": 16,
   "id": "f7ac5e30",
   "metadata": {},
   "outputs": [
    {
     "data": {
      "text/plain": [
       "array([[5191. ],\n",
       "       [5191. ],\n",
       "       [5191. ],\n",
       "       ...,\n",
       "       [4963.6],\n",
       "       [4963.6],\n",
       "       [4963.6]])"
      ]
     },
     "execution_count": 16,
     "metadata": {},
     "output_type": "execute_result"
    }
   ],
   "source": [
    "#Print the values in the X array\n",
    "\n",
    "X"
   ]
  },
  {
   "cell_type": "code",
   "execution_count": 17,
   "id": "9a1dae01",
   "metadata": {},
   "outputs": [
    {
     "data": {
      "text/plain": [
       "array([[4.857],\n",
       "       [2.133],\n",
       "       [4.857],\n",
       "       ...,\n",
       "       [1.028],\n",
       "       [1.028],\n",
       "       [1.028]])"
      ]
     },
     "execution_count": 17,
     "metadata": {},
     "output_type": "execute_result"
    }
   ],
   "source": [
    "#Print the values in the y array\n",
    "\n",
    "y"
   ]
  },
  {
   "cell_type": "code",
   "execution_count": 18,
   "id": "f3e0ce96",
   "metadata": {},
   "outputs": [],
   "source": [
    "# Split data into a training set and a test set.\n",
    "\n",
    "X_train, X_test, y_train, y_test = train_test_split(X, y, test_size=0.3, random_state=0)"
   ]
  },
  {
   "cell_type": "markdown",
   "id": "726b2a14",
   "metadata": {},
   "source": [
    "# Regression Analysis"
   ]
  },
  {
   "cell_type": "code",
   "execution_count": 19,
   "id": "e1aab6c7",
   "metadata": {},
   "outputs": [],
   "source": [
    "# Create a regression object.\n",
    "\n",
    "regression = LinearRegression()  # This is the regression object, which will be fit onto the training set."
   ]
  },
  {
   "cell_type": "code",
   "execution_count": 20,
   "id": "cc6fcaf2",
   "metadata": {},
   "outputs": [
    {
     "data": {
      "text/plain": [
       "LinearRegression()"
      ]
     },
     "execution_count": 20,
     "metadata": {},
     "output_type": "execute_result"
    }
   ],
   "source": [
    "# Fit the regression object onto the training set.\n",
    "\n",
    "regression.fit(X_train, y_train)"
   ]
  },
  {
   "cell_type": "code",
   "execution_count": 21,
   "id": "9d76373d",
   "metadata": {},
   "outputs": [],
   "source": [
    "# Predict the values of y using X.\n",
    "\n",
    "y_predicted = regression.predict(X_test)"
   ]
  },
  {
   "cell_type": "code",
   "execution_count": 22,
   "id": "a2f7fdcd",
   "metadata": {},
   "outputs": [
    {
     "data": {
      "image/png": "[encoded data removed]",
      "text/plain": [
       "<Figure size 432x288 with 1 Axes>"
      ]
     },
     "metadata": {
      "needs_background": "light"
     },
     "output_type": "display_data"
    }
   ],
   "source": [
    "# Create a plot that shows the regression line from the model on the test set.\n",
    "\n",
    "plot_test = plt\n",
    "plot_test.scatter(X_test, y_test, color='blue', s = 15)\n",
    "plot_test.plot(X_test, y_predicted, color='red', linewidth =3)\n",
    "plot_test.title('Number of employees at the banks vs Euribor 3 Months Rate available (Test set)')\n",
    "plot_test.xlabel('Number of Employees')\n",
    "plot_test.ylabel('Euribor 3 Months Rate')\n",
    "plot_test.show()"
   ]
  },
  {
   "cell_type": "markdown",
   "id": "6f57093c",
   "metadata": {},
   "source": [
    "This regression line graph does not show a true linear regression as some of the data points are quite far away from the line. But interestingly a lot of the data points are situated at the higher amount of number of employees. We could assume that more clients were contacted here at a time when interest rates was quite steady. "
   ]
  },
  {
   "cell_type": "code",
   "execution_count": 23,
   "id": "1a009bc7",
   "metadata": {},
   "outputs": [],
   "source": [
    "# Create objects that contain the model summary statistics.\n",
    "\n",
    "rmse = mean_squared_error(y_test, y_predicted) # This is the mean squared error\n",
    "r2 = r2_score(y_test, y_predicted) # This is the R2 score."
   ]
  },
  {
   "cell_type": "code",
   "execution_count": 24,
   "id": "145b9f4d",
   "metadata": {},
   "outputs": [
    {
     "name": "stdout",
     "output_type": "stream",
     "text": [
      "Slope: [[0.01811102]]\n",
      "Mean squared error:  0.9782144936593077\n",
      "R2 score:  0.6320392035143949\n"
     ]
    }
   ],
   "source": [
    "# Print the model summary statistics. This is where you evaluate the performance of the model.\n",
    "\n",
    "print('Slope:' ,regression.coef_)\n",
    "print('Mean squared error: ', rmse)\n",
    "print('R2 score: ', r2)"
   ]
  },
  {
   "cell_type": "code",
   "execution_count": 25,
   "id": "6acc6114",
   "metadata": {},
   "outputs": [
    {
     "data": {
      "text/plain": [
       "array([[4.58205701],\n",
       "       [2.24573603],\n",
       "       [4.58205701],\n",
       "       ...,\n",
       "       [2.24573603],\n",
       "       [3.91013834],\n",
       "       [4.58205701]])"
      ]
     },
     "execution_count": 25,
     "metadata": {},
     "output_type": "execute_result"
    }
   ],
   "source": [
    "#Print the values in the y_predicted array\n",
    "\n",
    "y_predicted"
   ]
  },
  {
   "cell_type": "code",
   "execution_count": 26,
   "id": "feb4244b",
   "metadata": {},
   "outputs": [
    {
     "data": {
      "text/html": [
       "<div>\n",
       "<style scoped>\n",
       "    .dataframe tbody tr th:only-of-type {\n",
       "        vertical-align: middle;\n",
       "    }\n",
       "\n",
       "    .dataframe tbody tr th {\n",
       "        vertical-align: top;\n",
       "    }\n",
       "\n",
       "    .dataframe thead th {\n",
       "        text-align: right;\n",
       "    }\n",
       "</style>\n",
       "<table border=\"1\" class=\"dataframe\">\n",
       "  <thead>\n",
       "    <tr style=\"text-align: right;\">\n",
       "      <th></th>\n",
       "      <th>Actual</th>\n",
       "      <th>Predicted</th>\n",
       "    </tr>\n",
       "  </thead>\n",
       "  <tbody>\n",
       "    <tr>\n",
       "      <th>0</th>\n",
       "      <td>4.957</td>\n",
       "      <td>4.582057</td>\n",
       "    </tr>\n",
       "    <tr>\n",
       "      <th>1</th>\n",
       "      <td>4.021</td>\n",
       "      <td>2.245736</td>\n",
       "    </tr>\n",
       "    <tr>\n",
       "      <th>2</th>\n",
       "      <td>4.961</td>\n",
       "      <td>4.582057</td>\n",
       "    </tr>\n",
       "    <tr>\n",
       "      <th>3</th>\n",
       "      <td>4.963</td>\n",
       "      <td>4.582057</td>\n",
       "    </tr>\n",
       "    <tr>\n",
       "      <th>4</th>\n",
       "      <td>4.021</td>\n",
       "      <td>3.997071</td>\n",
       "    </tr>\n",
       "    <tr>\n",
       "      <th>5</th>\n",
       "      <td>1.281</td>\n",
       "      <td>2.245736</td>\n",
       "    </tr>\n",
       "    <tr>\n",
       "      <th>6</th>\n",
       "      <td>4.856</td>\n",
       "      <td>3.910138</td>\n",
       "    </tr>\n",
       "    <tr>\n",
       "      <th>7</th>\n",
       "      <td>4.961</td>\n",
       "      <td>4.582057</td>\n",
       "    </tr>\n",
       "    <tr>\n",
       "      <th>8</th>\n",
       "      <td>4.958</td>\n",
       "      <td>4.582057</td>\n",
       "    </tr>\n",
       "    <tr>\n",
       "      <th>9</th>\n",
       "      <td>1.266</td>\n",
       "      <td>2.245736</td>\n",
       "    </tr>\n",
       "    <tr>\n",
       "      <th>10</th>\n",
       "      <td>0.683</td>\n",
       "      <td>0.608500</td>\n",
       "    </tr>\n",
       "    <tr>\n",
       "      <th>11</th>\n",
       "      <td>0.683</td>\n",
       "      <td>0.608500</td>\n",
       "    </tr>\n",
       "    <tr>\n",
       "      <th>12</th>\n",
       "      <td>4.964</td>\n",
       "      <td>4.582057</td>\n",
       "    </tr>\n",
       "    <tr>\n",
       "      <th>13</th>\n",
       "      <td>1.405</td>\n",
       "      <td>2.245736</td>\n",
       "    </tr>\n",
       "    <tr>\n",
       "      <th>14</th>\n",
       "      <td>4.857</td>\n",
       "      <td>3.910138</td>\n",
       "    </tr>\n",
       "    <tr>\n",
       "      <th>15</th>\n",
       "      <td>4.864</td>\n",
       "      <td>3.910138</td>\n",
       "    </tr>\n",
       "    <tr>\n",
       "      <th>16</th>\n",
       "      <td>4.022</td>\n",
       "      <td>2.245736</td>\n",
       "    </tr>\n",
       "    <tr>\n",
       "      <th>17</th>\n",
       "      <td>4.961</td>\n",
       "      <td>4.582057</td>\n",
       "    </tr>\n",
       "    <tr>\n",
       "      <th>18</th>\n",
       "      <td>4.961</td>\n",
       "      <td>4.582057</td>\n",
       "    </tr>\n",
       "    <tr>\n",
       "      <th>19</th>\n",
       "      <td>4.963</td>\n",
       "      <td>4.582057</td>\n",
       "    </tr>\n",
       "    <tr>\n",
       "      <th>20</th>\n",
       "      <td>4.962</td>\n",
       "      <td>4.582057</td>\n",
       "    </tr>\n",
       "    <tr>\n",
       "      <th>21</th>\n",
       "      <td>4.191</td>\n",
       "      <td>3.997071</td>\n",
       "    </tr>\n",
       "    <tr>\n",
       "      <th>22</th>\n",
       "      <td>1.313</td>\n",
       "      <td>2.245736</td>\n",
       "    </tr>\n",
       "    <tr>\n",
       "      <th>23</th>\n",
       "      <td>4.959</td>\n",
       "      <td>4.582057</td>\n",
       "    </tr>\n",
       "    <tr>\n",
       "      <th>24</th>\n",
       "      <td>1.041</td>\n",
       "      <td>-0.208307</td>\n",
       "    </tr>\n",
       "    <tr>\n",
       "      <th>25</th>\n",
       "      <td>4.967</td>\n",
       "      <td>4.582057</td>\n",
       "    </tr>\n",
       "    <tr>\n",
       "      <th>26</th>\n",
       "      <td>4.858</td>\n",
       "      <td>3.910138</td>\n",
       "    </tr>\n",
       "    <tr>\n",
       "      <th>27</th>\n",
       "      <td>1.757</td>\n",
       "      <td>2.245736</td>\n",
       "    </tr>\n",
       "    <tr>\n",
       "      <th>28</th>\n",
       "      <td>2.145</td>\n",
       "      <td>4.582057</td>\n",
       "    </tr>\n",
       "    <tr>\n",
       "      <th>29</th>\n",
       "      <td>5.112</td>\n",
       "      <td>3.910138</td>\n",
       "    </tr>\n",
       "  </tbody>\n",
       "</table>\n",
       "</div>"
      ],
      "text/plain": [
       "    Actual  Predicted\n",
       "0    4.957   4.582057\n",
       "1    4.021   2.245736\n",
       "2    4.961   4.582057\n",
       "3    4.963   4.582057\n",
       "4    4.021   3.997071\n",
       "5    1.281   2.245736\n",
       "6    4.856   3.910138\n",
       "7    4.961   4.582057\n",
       "8    4.958   4.582057\n",
       "9    1.266   2.245736\n",
       "10   0.683   0.608500\n",
       "11   0.683   0.608500\n",
       "12   4.964   4.582057\n",
       "13   1.405   2.245736\n",
       "14   4.857   3.910138\n",
       "15   4.864   3.910138\n",
       "16   4.022   2.245736\n",
       "17   4.961   4.582057\n",
       "18   4.961   4.582057\n",
       "19   4.963   4.582057\n",
       "20   4.962   4.582057\n",
       "21   4.191   3.997071\n",
       "22   1.313   2.245736\n",
       "23   4.959   4.582057\n",
       "24   1.041  -0.208307\n",
       "25   4.967   4.582057\n",
       "26   4.858   3.910138\n",
       "27   1.757   2.245736\n",
       "28   2.145   4.582057\n",
       "29   5.112   3.910138"
      ]
     },
     "execution_count": 26,
     "metadata": {},
     "output_type": "execute_result"
    }
   ],
   "source": [
    "# Create a dataframe comparing the actual and predicted values of y.\n",
    "\n",
    "data = pd.DataFrame({'Actual': y_test.flatten(), 'Predicted': y_predicted.flatten()})\n",
    "data.head(30)"
   ]
  },
  {
   "cell_type": "markdown",
   "id": "fd008be6",
   "metadata": {},
   "source": [
    "#### Comparing how the regression fits with the training set"
   ]
  },
  {
   "cell_type": "code",
   "execution_count": 27,
   "id": "f7ce88b2",
   "metadata": {},
   "outputs": [],
   "source": [
    "# Predict.\n",
    "\n",
    "y_predicted_train = regression.predict(X_train) # This is predicting X_train!"
   ]
  },
  {
   "cell_type": "code",
   "execution_count": 28,
   "id": "ceef1fd3",
   "metadata": {},
   "outputs": [],
   "source": [
    "rmse = mean_squared_error(y_train, y_predicted_train)\n",
    "r2 = r2_score(y_train, y_predicted_train)"
   ]
  },
  {
   "cell_type": "code",
   "execution_count": 29,
   "id": "138e2823",
   "metadata": {},
   "outputs": [
    {
     "name": "stdout",
     "output_type": "stream",
     "text": [
      "Slope: [[0.01811102]]\n",
      "Mean squared error:  0.9561949960294273\n",
      "R2 score:  0.6427567982095119\n"
     ]
    }
   ],
   "source": [
    "print('Slope:' ,regression.coef_)\n",
    "print('Mean squared error: ', rmse)\n",
    "print('R2 score: ', r2)"
   ]
  },
  {
   "cell_type": "code",
   "execution_count": 30,
   "id": "07788c6a",
   "metadata": {},
   "outputs": [
    {
     "data": {
      "image/png": "[encoded data removed]",
      "text/plain": [
       "<Figure size 432x288 with 1 Axes>"
      ]
     },
     "metadata": {
      "needs_background": "light"
     },
     "output_type": "display_data"
    }
   ],
   "source": [
    "# Visualizing the training set results.\n",
    "\n",
    "plot_test = plt\n",
    "plot_test.scatter(X_train, y_train, color='green', s = 15)\n",
    "plot_test.plot(X_train, y_predicted_train, color='red', linewidth =3)\n",
    "plot_test.title('Number of employees at the banks vs Euribor 3 Months Rate available (Test set)')\n",
    "plot_test.xlabel('Number of Employees')\n",
    "plot_test.ylabel('Euribor 3 Months Rate')\n",
    "plot_test.show()"
   ]
  },
  {
   "cell_type": "code",
   "execution_count": 31,
   "id": "c915dff0",
   "metadata": {},
   "outputs": [
    {
     "data": {
      "text/html": [
       "<div>\n",
       "<style scoped>\n",
       "    .dataframe tbody tr th:only-of-type {\n",
       "        vertical-align: middle;\n",
       "    }\n",
       "\n",
       "    .dataframe tbody tr th {\n",
       "        vertical-align: top;\n",
       "    }\n",
       "\n",
       "    .dataframe thead th {\n",
       "        text-align: right;\n",
       "    }\n",
       "</style>\n",
       "<table border=\"1\" class=\"dataframe\">\n",
       "  <thead>\n",
       "    <tr style=\"text-align: right;\">\n",
       "      <th></th>\n",
       "      <th>Actual</th>\n",
       "      <th>Predicted</th>\n",
       "    </tr>\n",
       "  </thead>\n",
       "  <tbody>\n",
       "    <tr>\n",
       "      <th>0</th>\n",
       "      <td>4.957</td>\n",
       "      <td>4.582057</td>\n",
       "    </tr>\n",
       "    <tr>\n",
       "      <th>1</th>\n",
       "      <td>4.021</td>\n",
       "      <td>2.245736</td>\n",
       "    </tr>\n",
       "    <tr>\n",
       "      <th>2</th>\n",
       "      <td>4.961</td>\n",
       "      <td>4.582057</td>\n",
       "    </tr>\n",
       "    <tr>\n",
       "      <th>3</th>\n",
       "      <td>4.963</td>\n",
       "      <td>4.582057</td>\n",
       "    </tr>\n",
       "    <tr>\n",
       "      <th>4</th>\n",
       "      <td>4.021</td>\n",
       "      <td>3.997071</td>\n",
       "    </tr>\n",
       "    <tr>\n",
       "      <th>5</th>\n",
       "      <td>1.281</td>\n",
       "      <td>2.245736</td>\n",
       "    </tr>\n",
       "    <tr>\n",
       "      <th>6</th>\n",
       "      <td>4.856</td>\n",
       "      <td>3.910138</td>\n",
       "    </tr>\n",
       "    <tr>\n",
       "      <th>7</th>\n",
       "      <td>4.961</td>\n",
       "      <td>4.582057</td>\n",
       "    </tr>\n",
       "    <tr>\n",
       "      <th>8</th>\n",
       "      <td>4.958</td>\n",
       "      <td>4.582057</td>\n",
       "    </tr>\n",
       "    <tr>\n",
       "      <th>9</th>\n",
       "      <td>1.266</td>\n",
       "      <td>2.245736</td>\n",
       "    </tr>\n",
       "    <tr>\n",
       "      <th>10</th>\n",
       "      <td>0.683</td>\n",
       "      <td>0.608500</td>\n",
       "    </tr>\n",
       "    <tr>\n",
       "      <th>11</th>\n",
       "      <td>0.683</td>\n",
       "      <td>0.608500</td>\n",
       "    </tr>\n",
       "    <tr>\n",
       "      <th>12</th>\n",
       "      <td>4.964</td>\n",
       "      <td>4.582057</td>\n",
       "    </tr>\n",
       "    <tr>\n",
       "      <th>13</th>\n",
       "      <td>1.405</td>\n",
       "      <td>2.245736</td>\n",
       "    </tr>\n",
       "    <tr>\n",
       "      <th>14</th>\n",
       "      <td>4.857</td>\n",
       "      <td>3.910138</td>\n",
       "    </tr>\n",
       "    <tr>\n",
       "      <th>15</th>\n",
       "      <td>4.864</td>\n",
       "      <td>3.910138</td>\n",
       "    </tr>\n",
       "    <tr>\n",
       "      <th>16</th>\n",
       "      <td>4.022</td>\n",
       "      <td>2.245736</td>\n",
       "    </tr>\n",
       "    <tr>\n",
       "      <th>17</th>\n",
       "      <td>4.961</td>\n",
       "      <td>4.582057</td>\n",
       "    </tr>\n",
       "    <tr>\n",
       "      <th>18</th>\n",
       "      <td>4.961</td>\n",
       "      <td>4.582057</td>\n",
       "    </tr>\n",
       "    <tr>\n",
       "      <th>19</th>\n",
       "      <td>4.963</td>\n",
       "      <td>4.582057</td>\n",
       "    </tr>\n",
       "    <tr>\n",
       "      <th>20</th>\n",
       "      <td>4.962</td>\n",
       "      <td>4.582057</td>\n",
       "    </tr>\n",
       "    <tr>\n",
       "      <th>21</th>\n",
       "      <td>4.191</td>\n",
       "      <td>3.997071</td>\n",
       "    </tr>\n",
       "    <tr>\n",
       "      <th>22</th>\n",
       "      <td>1.313</td>\n",
       "      <td>2.245736</td>\n",
       "    </tr>\n",
       "    <tr>\n",
       "      <th>23</th>\n",
       "      <td>4.959</td>\n",
       "      <td>4.582057</td>\n",
       "    </tr>\n",
       "    <tr>\n",
       "      <th>24</th>\n",
       "      <td>1.041</td>\n",
       "      <td>-0.208307</td>\n",
       "    </tr>\n",
       "    <tr>\n",
       "      <th>25</th>\n",
       "      <td>4.967</td>\n",
       "      <td>4.582057</td>\n",
       "    </tr>\n",
       "    <tr>\n",
       "      <th>26</th>\n",
       "      <td>4.858</td>\n",
       "      <td>3.910138</td>\n",
       "    </tr>\n",
       "    <tr>\n",
       "      <th>27</th>\n",
       "      <td>1.757</td>\n",
       "      <td>2.245736</td>\n",
       "    </tr>\n",
       "    <tr>\n",
       "      <th>28</th>\n",
       "      <td>2.145</td>\n",
       "      <td>4.582057</td>\n",
       "    </tr>\n",
       "    <tr>\n",
       "      <th>29</th>\n",
       "      <td>5.112</td>\n",
       "      <td>3.910138</td>\n",
       "    </tr>\n",
       "  </tbody>\n",
       "</table>\n",
       "</div>"
      ],
      "text/plain": [
       "    Actual  Predicted\n",
       "0    4.957   4.582057\n",
       "1    4.021   2.245736\n",
       "2    4.961   4.582057\n",
       "3    4.963   4.582057\n",
       "4    4.021   3.997071\n",
       "5    1.281   2.245736\n",
       "6    4.856   3.910138\n",
       "7    4.961   4.582057\n",
       "8    4.958   4.582057\n",
       "9    1.266   2.245736\n",
       "10   0.683   0.608500\n",
       "11   0.683   0.608500\n",
       "12   4.964   4.582057\n",
       "13   1.405   2.245736\n",
       "14   4.857   3.910138\n",
       "15   4.864   3.910138\n",
       "16   4.022   2.245736\n",
       "17   4.961   4.582057\n",
       "18   4.961   4.582057\n",
       "19   4.963   4.582057\n",
       "20   4.962   4.582057\n",
       "21   4.191   3.997071\n",
       "22   1.313   2.245736\n",
       "23   4.959   4.582057\n",
       "24   1.041  -0.208307\n",
       "25   4.967   4.582057\n",
       "26   4.858   3.910138\n",
       "27   1.757   2.245736\n",
       "28   2.145   4.582057\n",
       "29   5.112   3.910138"
      ]
     },
     "execution_count": 31,
     "metadata": {},
     "output_type": "execute_result"
    }
   ],
   "source": [
    "# Create a dataframe comparing the actual and predicted values of y.\n",
    "\n",
    "data_2 = pd.DataFrame({'Actual': y_train.flatten(), 'Predicted': y_predicted_train.flatten()})\n",
    "data.head(30)"
   ]
  },
  {
   "cell_type": "markdown",
   "id": "6b4fc74e",
   "metadata": {},
   "source": [
    "With both models (training and test sets) it looks like it has not done a good job in explaining the relationship between the number of employees and the value of Euribor's 3 months interest rate. The slope's value is low at 0.18, which could mean that if the bank hires more employees, there is a 0.08% chance this could influence the interest rates. \n",
    "\n",
    "The MSE value of the test set is very high, at 0.97, which is a little higher comparing to the train set's MSE, which was 0.95. This again leans to the idea that this model is not a good fit at presenting the data.\n",
    "\n",
    "However, the R2 score is set at 0.63 for the test set and 0.64 for the train set, which indicates there is some correlation between the two variables but overall doing the single regression is not enough to make a good prediction regarding the subscription of term deposits.\n",
    "\n",
    "In terms of data bias, I did mentioned before in previous exercise that there is potential for human bias as the data was collected via phone calls and submitted by humans. So there is a likliness of human error to occur which could have an effect on the accurancy of the data."
   ]
  },
  {
   "cell_type": "code",
   "execution_count": null,
   "id": "9d6a9307",
   "metadata": {},
   "outputs": [],
   "source": []
  }
 ],
 "metadata": {
  "kernelspec": {
   "display_name": "Python 3",
   "language": "python",
   "name": "python3"
  },
  "language_info": {
   "codemirror_mode": {
    "name": "ipython",
    "version": 3
   },
   "file_extension": ".py",
   "mimetype": "text/x-python",
   "name": "python",
   "nbconvert_exporter": "python",
   "pygments_lexer": "ipython3",
   "version": "3.8.11"
  }
 },
 "nbformat": 4,
 "nbformat_minor": 5
}
